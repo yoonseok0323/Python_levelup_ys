{
  "nbformat": 4,
  "nbformat_minor": 0,
  "metadata": {
    "colab": {
      "name": "백준4~7.ipynb",
      "provenance": [],
      "collapsed_sections": [],
      "authorship_tag": "ABX9TyNcM7uuSR2btke3gJ5OCcTu",
      "include_colab_link": true
    },
    "kernelspec": {
      "name": "python3",
      "display_name": "Python 3"
    },
    "language_info": {
      "name": "python"
    }
  },
  "cells": [
    {
      "cell_type": "markdown",
      "metadata": {
        "id": "view-in-github",
        "colab_type": "text"
      },
      "source": [
        "<a href=\"https://colab.research.google.com/github/yoonseok0323/Python_levelup_ys/blob/main/%EB%B0%B1%EC%A4%804~7.ipynb\" target=\"_parent\"><img src=\"https://colab.research.google.com/assets/colab-badge.svg\" alt=\"Open In Colab\"/></a>"
      ]
    },
    {
      "cell_type": "markdown",
      "source": [
        "# 1차원 배열"
      ],
      "metadata": {
        "id": "c_YsZeciMaN3"
      }
    },
    {
      "cell_type": "code",
      "source": [
        "a = int(input())\n",
        "b = list( map(int,input().split()) )\n",
        "print( min(b),max(b))"
      ],
      "metadata": {
        "colab": {
          "base_uri": "https://localhost:8080/"
        },
        "id": "Cdhr-DikMetv",
        "outputId": "eee87d52-8ee4-44fe-dc24-bfe27d8754ac"
      },
      "execution_count": null,
      "outputs": [
        {
          "output_type": "stream",
          "name": "stdout",
          "text": [
            "5\n",
            "20 10 35 30 7\n",
            "7 35\n"
          ]
        }
      ]
    },
    {
      "cell_type": "code",
      "source": [
        ""
      ],
      "metadata": {
        "colab": {
          "base_uri": "https://localhost:8080/"
        },
        "id": "Y2UIYQiDNLRl",
        "outputId": "567ba823-857d-484a-eb7e-faba828d021b"
      },
      "execution_count": null,
      "outputs": [
        {
          "name": "stdout",
          "output_type": "stream",
          "text": [
            "5\n",
            "20 10 35 30 7\n"
          ]
        },
        {
          "output_type": "execute_result",
          "data": {
            "text/plain": [
              "[20, 10, 35, 30, 7]"
            ]
          },
          "metadata": {},
          "execution_count": 16
        }
      ]
    },
    {
      "cell_type": "code",
      "source": [
        "a = []\n",
        "for i in range(1,10):\n",
        "  a.append(int(input()))  # 입력받은 값을 리스트a에 입력\n",
        "print(max(a))             # 최댓값 출력\n",
        "print(a.index(max(a))+1)  # 리스트 인덱스를 통해 가장 큰 자리수 가져옴 이때 0부터 시작하기에 +1 해줌.\n",
        "  "
      ],
      "metadata": {
        "colab": {
          "base_uri": "https://localhost:8080/"
        },
        "id": "_ohxgqjiQaQ2",
        "outputId": "428bef09-f295-45bc-ac32-dc9d7111e26b"
      },
      "execution_count": null,
      "outputs": [
        {
          "output_type": "stream",
          "name": "stdout",
          "text": [
            "3\n",
            "29\n",
            "38\n",
            "12\n",
            "57\n",
            "74\n",
            "40\n",
            "85\n",
            "61\n",
            "85\n",
            "8\n"
          ]
        }
      ]
    },
    {
      "cell_type": "code",
      "source": [
        "a = int(input())\n",
        "b = int(input())\n",
        "c = int(input())\n",
        "\n",
        "d= str((a*b*c))\n",
        "for i in range(10):\n",
        "  print(d.count(str(i)))\n"
      ],
      "metadata": {
        "colab": {
          "base_uri": "https://localhost:8080/"
        },
        "id": "Bfc9RoowRkeQ",
        "outputId": "d3ab5832-56c1-495e-a52e-7d5f99f154e7"
      },
      "execution_count": null,
      "outputs": [
        {
          "output_type": "stream",
          "name": "stdout",
          "text": [
            "150\n",
            "266\n",
            "427\n",
            "3\n",
            "1\n",
            "0\n",
            "2\n",
            "0\n",
            "0\n",
            "0\n",
            "2\n",
            "0\n",
            "0\n"
          ]
        }
      ]
    },
    {
      "cell_type": "code",
      "source": [
        "a = []\n",
        "b = []\n",
        "c = []\n",
        "\n",
        "for i in range(1,11):\n",
        "  a.append( (int(input()))%42)\n",
        "  a1 = set(a)\n",
        "print(len(a1))\n",
        "\n",
        "for i in range(1,11):\n",
        "  b.append(int(input())%42)\n",
        "  b1 = set(b)\n",
        "print(len(b1))\n",
        "\n",
        "for i in range(1,11):\n",
        "  c.append(int(input())%42)\n",
        "  c1 = set(c)\n",
        "print(len(c1))\n",
        "######### 런타입 에러뜸"
      ],
      "metadata": {
        "id": "fmxygG4_WxjV"
      },
      "execution_count": null,
      "outputs": []
    },
    {
      "cell_type": "code",
      "source": [
        "n =[]\n",
        "\n",
        "for i in range(1,11):\n",
        "  n.append( (int(input()))%42)\n",
        "  n1 = set(n)\n",
        "print(len(n1))\n"
      ],
      "metadata": {
        "colab": {
          "base_uri": "https://localhost:8080/"
        },
        "id": "2-lpN6s3lZ0L",
        "outputId": "90b17978-7d4d-49f0-efc5-bdce3bdfd639"
      },
      "execution_count": null,
      "outputs": [
        {
          "output_type": "stream",
          "name": "stdout",
          "text": [
            "1\n",
            "2\n",
            "3\n",
            "4\n",
            "5\n",
            "6\n",
            "7\n",
            "8\n",
            "9\n",
            "10\n",
            "10\n"
          ]
        }
      ]
    },
    {
      "cell_type": "code",
      "source": [
        "a= []\n",
        "n = int(input())\n",
        "for i in range(n):\n",
        "  b = map(int,input().spilt())\n",
        "  c = a.append(b)\n",
        "  "
      ],
      "metadata": {
        "id": "QCXalP9rqvDO"
      },
      "execution_count": null,
      "outputs": []
    },
    {
      "cell_type": "code",
      "source": [
        "n = int(input())\n",
        "for i in range(n):\n",
        "  a = input()\n",
        "  b = list(a)\n",
        "  cnt = 1\n",
        "  sum=0\n",
        "  for i in b:\n",
        "    if i == \"O\":\n",
        "      sum+= cnt\n",
        "      cnt+= 1\n",
        "    else:\n",
        "      cnt = 1\n",
        "  print(sum)\n"
      ],
      "metadata": {
        "colab": {
          "base_uri": "https://localhost:8080/"
        },
        "id": "9HwBF_qyunWR",
        "outputId": "a4954a0f-da49-4df2-c846-e0ac3694c63f"
      },
      "execution_count": null,
      "outputs": [
        {
          "output_type": "stream",
          "name": "stdout",
          "text": [
            "5\n",
            "OOXXOXXOOO\n",
            "10\n",
            "OOXXOXXOOO\n",
            "10\n",
            "OXOXOXOXOXOXOX\n",
            "7\n",
            "OOOOOOOOOO\n",
            "55\n",
            "OOOOXOOOOXOOOOX\n",
            "30\n"
          ]
        }
      ]
    },
    {
      "cell_type": "code",
      "source": [
        "#평균 구하고, 평균을 넘는 점수를 구하고, 넘은 인원/전체인원*100 !\n",
        "\n",
        "n = int(input())\n",
        "case = []\n",
        "top = []\n",
        "case = list(map(int,input().split()))\n",
        "avr = sum(case[1:]) / n\n",
        "for i in case:\n",
        "  if i > avr: \n",
        "    top.append(i)\n",
        "num = (len(top)/n *100)\n",
        "print( '%.3f'% num+\"%\",sep=\"\")\n",
        "#왜 안돼..? -> 5가지 케이스 순환해야돼... 문제 똑바로 읽자...^^"
      ],
      "metadata": {
        "id": "GXy9xKW_xdSe"
      },
      "execution_count": null,
      "outputs": []
    },
    {
      "cell_type": "code",
      "source": [
        "#평균 구하고, 평균을 넘는 점수를 구하고, 넘은 인원/전체인원*100 !\n",
        "#힘든 싸움이였다...\n",
        "n = int(input())\n",
        "\n",
        "\n",
        "for i in range(n):\n",
        "  top = []\n",
        "  case = list(map(int,input().split()))\n",
        "  avr = sum(case[1:]) /case[0]\n",
        "  for a in case[1:]:\n",
        "    if a > avr: \n",
        "      top.append(a)\n",
        "  num = (len(top)/case[0] *100)\n",
        "  print( '%.3f'% num+\"%\",sep=\"\")"
      ],
      "metadata": {
        "id": "9UspIOkmx-du",
        "colab": {
          "base_uri": "https://localhost:8080/"
        },
        "outputId": "eebe54c2-c6a6-4132-d45e-07351e2423a6"
      },
      "execution_count": null,
      "outputs": [
        {
          "output_type": "stream",
          "name": "stdout",
          "text": [
            "5\n",
            "7 100 95 90 80 70 60 50\n",
            "57.143%\n",
            "5 50 50 70 80 100\n",
            "40.000%\n",
            "3 70 90 80\n",
            "33.333%\n",
            "3 70 90 81\n",
            "66.667%\n",
            "9 100 99 98 97 96 95 94 93 91\n",
            "55.556%\n"
          ]
        }
      ]
    },
    {
      "cell_type": "markdown",
      "source": [
        "#함수"
      ],
      "metadata": {
        "id": "Vs1q7tX-xtyt"
      }
    },
    {
      "cell_type": "code",
      "source": [
        "def solve (a):\n",
        "  return sum(a)"
      ],
      "metadata": {
        "id": "Pm4CPiLQxue5"
      },
      "execution_count": null,
      "outputs": []
    },
    {
      "cell_type": "code",
      "source": [
        ""
      ],
      "metadata": {
        "id": "Shhd--IpHWwy"
      },
      "execution_count": null,
      "outputs": []
    },
    {
      "cell_type": "markdown",
      "source": [
        "#문자열"
      ],
      "metadata": {
        "id": "9Ps_pUSmI9hd"
      }
    },
    {
      "cell_type": "code",
      "source": [
        "n = input()\n",
        "print(ord(n))"
      ],
      "metadata": {
        "colab": {
          "base_uri": "https://localhost:8080/"
        },
        "id": "1XRqkbmtJBqs",
        "outputId": "ac7111cd-cf81-41f9-f400-c3924f3dfebc"
      },
      "execution_count": null,
      "outputs": [
        {
          "output_type": "stream",
          "name": "stdout",
          "text": [
            "0\n",
            "48\n"
          ]
        }
      ]
    },
    {
      "cell_type": "code",
      "source": [
        "#11720\n",
        "a = int(input())\n",
        "b = list(input())\n",
        "cnt=0\n",
        "for i in b:\n",
        "  cnt+= int(i)\n",
        "print(cnt)"
      ],
      "metadata": {
        "colab": {
          "base_uri": "https://localhost:8080/"
        },
        "id": "GNU3-SF3KOxo",
        "outputId": "4ca06ead-b35a-4ca4-9d81-44fb995ec5b8"
      },
      "execution_count": 38,
      "outputs": [
        {
          "output_type": "stream",
          "name": "stdout",
          "text": [
            "5\n",
            "54321\n",
            "15\n"
          ]
        }
      ]
    },
    {
      "cell_type": "code",
      "source": [
        "#abcdefghij k l m n o p q r s t u v w x y z\n",
        "#0123456789 10 11 \n",
        "#baekjoon\n",
        "#1024356\n",
        "# 뭔말이여이게\n",
        "for str in \"Hello\":\n",
        "    print (str)\n",
        "    print (\"End\")"
      ],
      "metadata": {
        "id": "F7F2xlsCLcKh",
        "colab": {
          "base_uri": "https://localhost:8080/"
        },
        "outputId": "30e6dac2-3676-4afe-9624-a602b02d6ad8"
      },
      "execution_count": null,
      "outputs": [
        {
          "output_type": "stream",
          "name": "stdout",
          "text": [
            "H\n",
            "End\n",
            "e\n",
            "End\n",
            "l\n",
            "End\n",
            "l\n",
            "End\n",
            "o\n",
            "End\n"
          ]
        }
      ]
    },
    {
      "cell_type": "code",
      "source": [
        "t = int(input())\n",
        "for i in range(t):\n",
        "  r,s = input().split()\n",
        "  for j in s:\n",
        "    print( int(r)*j, end=\"\")\n",
        "  print(\"\")\n",
        "    \n"
      ],
      "metadata": {
        "colab": {
          "base_uri": "https://localhost:8080/"
        },
        "id": "0ePTC3Owx6ki",
        "outputId": "33b11bf3-a402-48e7-bc3e-06a960e285e4"
      },
      "execution_count": null,
      "outputs": [
        {
          "output_type": "stream",
          "name": "stdout",
          "text": [
            "2\n",
            "3 abc\n",
            "aaabbbccc\n",
            "5 /htp\n",
            "/////hhhhhtttttppppp\n"
          ]
        }
      ]
    },
    {
      "cell_type": "code",
      "source": [
        "#1157\n",
        "n = list( input().lower() )\n",
        "\n",
        "counter = {}\n",
        "for i in n:\n",
        "    try: counter[i] += 1\n",
        "    except: counter[i ] = 1\n",
        "a= list ( counter.values() )\n",
        "a[0][-1] \n",
        " \n"
      ],
      "metadata": {
        "id": "yOSsrLSV2J17",
        "colab": {
          "base_uri": "https://localhost:8080/",
          "height": 250
        },
        "outputId": "ac3ab2d5-8c69-4675-9901-95e4be254281"
      },
      "execution_count": 34,
      "outputs": [
        {
          "name": "stdout",
          "output_type": "stream",
          "text": [
            "asdasda\n"
          ]
        },
        {
          "output_type": "error",
          "ename": "TypeError",
          "evalue": "ignored",
          "traceback": [
            "\u001b[0;31m---------------------------------------------------------------------------\u001b[0m",
            "\u001b[0;31mTypeError\u001b[0m                                 Traceback (most recent call last)",
            "\u001b[0;32m<ipython-input-34-2cf9cd382df9>\u001b[0m in \u001b[0;36m<module>\u001b[0;34m()\u001b[0m\n\u001b[1;32m      7\u001b[0m     \u001b[0;32mexcept\u001b[0m\u001b[0;34m:\u001b[0m \u001b[0mcounter\u001b[0m\u001b[0;34m[\u001b[0m\u001b[0mi\u001b[0m \u001b[0;34m]\u001b[0m \u001b[0;34m=\u001b[0m \u001b[0;36m1\u001b[0m\u001b[0;34m\u001b[0m\u001b[0;34m\u001b[0m\u001b[0m\n\u001b[1;32m      8\u001b[0m \u001b[0ma\u001b[0m\u001b[0;34m=\u001b[0m \u001b[0mlist\u001b[0m \u001b[0;34m(\u001b[0m \u001b[0mcounter\u001b[0m\u001b[0;34m.\u001b[0m\u001b[0mvalues\u001b[0m\u001b[0;34m(\u001b[0m\u001b[0;34m)\u001b[0m \u001b[0;34m)\u001b[0m\u001b[0;34m\u001b[0m\u001b[0;34m\u001b[0m\u001b[0m\n\u001b[0;32m----> 9\u001b[0;31m \u001b[0ma\u001b[0m\u001b[0;34m[\u001b[0m\u001b[0;36m0\u001b[0m\u001b[0;34m]\u001b[0m\u001b[0;34m[\u001b[0m\u001b[0;34m-\u001b[0m\u001b[0;36m1\u001b[0m\u001b[0;34m]\u001b[0m\u001b[0;34m\u001b[0m\u001b[0;34m\u001b[0m\u001b[0m\n\u001b[0m\u001b[1;32m     10\u001b[0m \u001b[0;34m\u001b[0m\u001b[0m\n",
            "\u001b[0;31mTypeError\u001b[0m: 'int' object is not subscriptable"
          ]
        }
      ]
    },
    {
      "cell_type": "code",
      "source": [
        "n = list(input().split())\n",
        "print( len(n) )\n",
        "\n"
      ],
      "metadata": {
        "colab": {
          "base_uri": "https://localhost:8080/"
        },
        "id": "el8z7pan_S2Q",
        "outputId": "5fafa033-0a54-4511-84f6-bf9c4bb6cb04"
      },
      "execution_count": null,
      "outputs": [
        {
          "output_type": "stream",
          "name": "stdout",
          "text": [
            "The Curious Case of Benjamin Button\n",
            "6\n"
          ]
        }
      ]
    },
    {
      "cell_type": "code",
      "source": [
        "#2908\n",
        "# 입력 값받고, 리버스 한 뒤, 수 비교, 후 출력.\n",
        "nums = []\n",
        "\n",
        "n =  list ( input().split() )\n",
        "a = int(n[0][::-1])\n",
        "nums.append(a)\n",
        "\n",
        "b = int(n[1][::-1])\n",
        "nums.append(b)\n",
        "print( max(nums))\n",
        "\n"
      ],
      "metadata": {
        "colab": {
          "base_uri": "https://localhost:8080/"
        },
        "id": "y_F3288g_fsa",
        "outputId": "704d6913-d497-4362-9b76-cf958fa35a4a"
      },
      "execution_count": null,
      "outputs": [
        {
          "output_type": "stream",
          "name": "stdout",
          "text": [
            "123 456\n",
            "654\n"
          ]
        }
      ]
    },
    {
      "cell_type": "code",
      "source": [
        "nums = [\"ABC\",\"DEF\",\"GHI\",\"JKL\",\"MNO\",\"PQRS\",\"TUV\",\"WXYZ\"] # 23456789 ->01234567 + (2)\n",
        "sum = 0\n",
        "n = input()\n",
        "for a in nums: #a는 nums값 분리 abc,def....\n",
        "  for b in n:  #b는 입력값 분리 eX) wa -> w,a\n",
        "    if b == a:\n",
        "        sum+= nums.index(a)+2\n",
        "print(sum)"
      ],
      "metadata": {
        "colab": {
          "base_uri": "https://localhost:8080/"
        },
        "id": "5cR0NfT-EjrC",
        "outputId": "aa6b69f4-d41f-4a94-953b-a943c0381cb7"
      },
      "execution_count": null,
      "outputs": [
        {
          "output_type": "stream",
          "name": "stdout",
          "text": [
            "wa\n",
            "0\n"
          ]
        }
      ]
    },
    {
      "cell_type": "code",
      "source": [
        "#2941\n",
        "#입력값중 크로아티아 알파벳이 있는 경우 , 1로 카운트. 나머지는 그냥 카운트 -> 입력 값들 중 alp 리스트에 포함된 문자가 있으면 하나의 문자로 바꾸어 길이를 잰다\n",
        "alp = [ 'c=','c-','dz=','d-','lj','nj','s=','z=']\n",
        "n= input()\n",
        "for i in alp:\n",
        "  n = n.replace(i,'s')\n",
        "print(len(n))"
      ],
      "metadata": {
        "id": "FR2iMMRlSMHa",
        "colab": {
          "base_uri": "https://localhost:8080/"
        },
        "outputId": "737addcb-4537-432c-9472-39f99bacaea7"
      },
      "execution_count": 4,
      "outputs": [
        {
          "output_type": "stream",
          "name": "stdout",
          "text": [
            "ljes=njak\n",
            "6\n"
          ]
        }
      ]
    },
    {
      "cell_type": "code",
      "source": [
        "alp = [ 'c=','c-','dz=','d-','lj','nj','s=','z=','lj','lj']\n",
        "print(len(set(alp)))"
      ],
      "metadata": {
        "colab": {
          "base_uri": "https://localhost:8080/"
        },
        "id": "bbgqRuAG1JCf",
        "outputId": "5602f5a4-e169-4704-fd1f-a98ebb2e47ca"
      },
      "execution_count": 15,
      "outputs": [
        {
          "output_type": "stream",
          "name": "stdout",
          "text": [
            "8\n"
          ]
        }
      ]
    },
    {
      "cell_type": "code",
      "source": [
        "#1315\n",
        "# 만약 문자열이 하나이면 1, 서로모두다르면 1, 연속된 문자열1, 같은 문자가 떨어져있으면 0\n",
        "# list(a)\n",
        "# a=[] 차이점?\n",
        "n = int(input())\n",
        "c=0\n",
        "c1=0\n",
        "for i in range(n):\n",
        "  a = input()\n",
        "  for j in range(len(a)+1):\n",
        "    if a[j] == a[j+1]: #연속\n",
        "      c+=1\n",
        "    elif len(a) == 1: # 문자열 하나 일 경우\n",
        "      c+=1\n",
        "    elif a[j] in a[j+1]:\n",
        "      c1=0\n",
        "    elif a[j][::] != a[j][::-1]:\n",
        "      c+=1\n",
        "print(c+c1)"
      ],
      "metadata": {
        "colab": {
          "base_uri": "https://localhost:8080/",
          "height": 287
        },
        "id": "Jgq8Z1GvtWpC",
        "outputId": "90e3dd59-8d9a-4e33-faad-701930ba9bae"
      },
      "execution_count": 19,
      "outputs": [
        {
          "name": "stdout",
          "output_type": "stream",
          "text": [
            "3\n",
            "happy\n"
          ]
        },
        {
          "output_type": "error",
          "ename": "IndexError",
          "evalue": "ignored",
          "traceback": [
            "\u001b[0;31m---------------------------------------------------------------------------\u001b[0m",
            "\u001b[0;31mIndexError\u001b[0m                                Traceback (most recent call last)",
            "\u001b[0;32m<ipython-input-19-2c86803198ad>\u001b[0m in \u001b[0;36m<module>\u001b[0;34m()\u001b[0m\n\u001b[1;32m      9\u001b[0m   \u001b[0ma\u001b[0m \u001b[0;34m=\u001b[0m \u001b[0minput\u001b[0m\u001b[0;34m(\u001b[0m\u001b[0;34m)\u001b[0m\u001b[0;34m\u001b[0m\u001b[0;34m\u001b[0m\u001b[0m\n\u001b[1;32m     10\u001b[0m   \u001b[0;32mfor\u001b[0m \u001b[0mj\u001b[0m \u001b[0;32min\u001b[0m \u001b[0mrange\u001b[0m\u001b[0;34m(\u001b[0m\u001b[0mlen\u001b[0m\u001b[0;34m(\u001b[0m\u001b[0ma\u001b[0m\u001b[0;34m)\u001b[0m\u001b[0;34m+\u001b[0m\u001b[0;36m1\u001b[0m\u001b[0;34m)\u001b[0m\u001b[0;34m:\u001b[0m\u001b[0;34m\u001b[0m\u001b[0;34m\u001b[0m\u001b[0m\n\u001b[0;32m---> 11\u001b[0;31m     \u001b[0;32mif\u001b[0m \u001b[0ma\u001b[0m\u001b[0;34m[\u001b[0m\u001b[0mj\u001b[0m\u001b[0;34m]\u001b[0m \u001b[0;34m==\u001b[0m \u001b[0ma\u001b[0m\u001b[0;34m[\u001b[0m\u001b[0mj\u001b[0m\u001b[0;34m+\u001b[0m\u001b[0;36m1\u001b[0m\u001b[0;34m]\u001b[0m\u001b[0;34m:\u001b[0m \u001b[0;31m#연속\u001b[0m\u001b[0;34m\u001b[0m\u001b[0;34m\u001b[0m\u001b[0m\n\u001b[0m\u001b[1;32m     12\u001b[0m       \u001b[0mc\u001b[0m\u001b[0;34m+=\u001b[0m\u001b[0;36m1\u001b[0m\u001b[0;34m\u001b[0m\u001b[0;34m\u001b[0m\u001b[0m\n\u001b[1;32m     13\u001b[0m     \u001b[0;32melif\u001b[0m \u001b[0mlen\u001b[0m\u001b[0;34m(\u001b[0m\u001b[0ma\u001b[0m\u001b[0;34m)\u001b[0m \u001b[0;34m==\u001b[0m \u001b[0;36m1\u001b[0m\u001b[0;34m:\u001b[0m \u001b[0;31m# 문자열 하나 일 경우\u001b[0m\u001b[0;34m\u001b[0m\u001b[0;34m\u001b[0m\u001b[0m\n",
            "\u001b[0;31mIndexError\u001b[0m: string index out of range"
          ]
        }
      ]
    },
    {
      "cell_type": "code",
      "source": [
        ""
      ],
      "metadata": {
        "id": "_TT9GgPUwYQL"
      },
      "execution_count": null,
      "outputs": []
    }
  ]
}
